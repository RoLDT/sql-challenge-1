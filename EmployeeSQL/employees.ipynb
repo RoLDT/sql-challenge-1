{
 "cells": [
  {
   "cell_type": "markdown",
   "metadata": {},
   "source": [
    "Import Dependencies"
   ]
  },
  {
   "cell_type": "code",
   "execution_count": 1,
   "metadata": {},
   "outputs": [],
   "source": [
    "import pandas as pd\n",
    "import matplotlib.pyplot as plt\n",
    "import sqlalchemy"
   ]
  },
  {
   "cell_type": "code",
   "execution_count": 2,
   "metadata": {},
   "outputs": [],
   "source": [
    "from my_credentials import PGHOST, PGDATABASE, PGUSER, PGPASSWORD\n",
    "from sqlalchemy.ext.automap import automap_base\n",
    "from sqlalchemy.orm import Session\n",
    "from sqlalchemy import create_engine, inspect, func\n",
    "from matplotlib import style"
   ]
  },
  {
   "cell_type": "markdown",
   "metadata": {},
   "source": [
    "Set the chart style"
   ]
  },
  {
   "cell_type": "code",
   "execution_count": 3,
   "metadata": {},
   "outputs": [],
   "source": [
    "style.use('ggplot')"
   ]
  },
  {
   "cell_type": "markdown",
   "metadata": {},
   "source": [
    "Setup Connection"
   ]
  },
  {
   "cell_type": "code",
   "execution_count": 4,
   "metadata": {},
   "outputs": [],
   "source": [
    "conn = f'postgresql://{PGUSER}:{PGPASSWORD}@{PGHOST}:5433/{PGDATABASE}'\n",
    "engine = create_engine(conn)\n",
    "connection = engine.connect()"
   ]
  },
  {
   "cell_type": "markdown",
   "metadata": {},
   "source": [
    "Explore Database"
   ]
  },
  {
   "cell_type": "code",
   "execution_count": 5,
   "metadata": {},
   "outputs": [
    {
     "name": "stdout",
     "output_type": "stream",
     "text": [
      "['employees', 'dept_emp', 'departments', 'dept_manager', 'titles', 'salary']\n"
     ]
    }
   ],
   "source": [
    "# Print table names\n",
    "inspector = inspect(engine)\n",
    "databases = inspector.get_table_names()\n",
    "print(databases)"
   ]
  },
  {
   "cell_type": "code",
   "execution_count": 6,
   "metadata": {},
   "outputs": [
    {
     "name": "stdout",
     "output_type": "stream",
     "text": [
      "Table Columns for employees\n",
      "emp_no INTEGER\n",
      "emp_title_id VARCHAR\n",
      "birth_date DATE\n",
      "first_name VARCHAR\n",
      "last_name VARCHAR\n",
      "sex VARCHAR\n",
      "hire_date DATE\n",
      "-----\n",
      "Table Columns for dept_emp\n",
      "emp_no INTEGER\n",
      "dept_no VARCHAR\n",
      "-----\n",
      "Table Columns for departments\n",
      "dept_no VARCHAR\n",
      "dept_name VARCHAR\n",
      "-----\n",
      "Table Columns for dept_manager\n",
      "dept_no VARCHAR\n",
      "emp_no INTEGER\n",
      "-----\n",
      "Table Columns for titles\n",
      "title_id VARCHAR\n",
      "title VARCHAR\n",
      "-----\n",
      "Table Columns for salary\n",
      "emp_no INTEGER\n",
      "salary MONEY\n",
      "-----\n"
     ]
    }
   ],
   "source": [
    "# Print the column names and types\n",
    "for db in databases:\n",
    "    columns = inspector.get_columns(db)\n",
    "    print(f'Table Columns for {db}')\n",
    "    \n",
    "    for c in columns:\n",
    "        print(c['name'], c[\"type\"])\n",
    "        \n",
    "    print('-----')"
   ]
  },
  {
   "cell_type": "markdown",
   "metadata": {},
   "source": [
    "Reflect database and Query"
   ]
  },
  {
   "cell_type": "code",
   "execution_count": 7,
   "metadata": {},
   "outputs": [],
   "source": [
    "# Declare a Base using `automap_base()`\n",
    "Base = automap_base()"
   ]
  },
  {
   "cell_type": "code",
   "execution_count": 8,
   "metadata": {},
   "outputs": [],
   "source": [
    "# Use the Base class to reflect the database tables\n",
    "Base.prepare(engine, reflect=True)"
   ]
  },
  {
   "cell_type": "code",
   "execution_count": 9,
   "metadata": {},
   "outputs": [
    {
     "data": {
      "text/plain": [
       "['employees', 'titles', 'departments', 'salary']"
      ]
     },
     "execution_count": 9,
     "metadata": {},
     "output_type": "execute_result"
    }
   ],
   "source": [
    "# Print all of the classes mapped to the Base\n",
    "Base.classes.keys()"
   ]
  },
  {
   "cell_type": "code",
   "execution_count": 10,
   "metadata": {},
   "outputs": [],
   "source": [
    "# Assign tables to variables - just the one that will be used\n",
    "employees_db = Base.classes.employees\n",
    "titles_db = Base.classes.titles\n",
    "salary_db = Base.classes.salary"
   ]
  },
  {
   "cell_type": "code",
   "execution_count": 11,
   "metadata": {},
   "outputs": [],
   "source": [
    "# Create a session\n",
    "session = Session(engine)"
   ]
  },
  {
   "cell_type": "markdown",
   "metadata": {},
   "source": [
    "Transformations to create the histogram. I will create it using two methods."
   ]
  },
  {
   "cell_type": "markdown",
   "metadata": {},
   "source": [
    "Method 1 = Bins, Cuts, etc."
   ]
  },
  {
   "cell_type": "code",
   "execution_count": 12,
   "metadata": {},
   "outputs": [],
   "source": [
    "#Query the information and store it to a variable\n",
    "salary_results = session.query(salary_db.salary).all()"
   ]
  },
  {
   "cell_type": "code",
   "execution_count": 13,
   "metadata": {},
   "outputs": [],
   "source": [
    "#Save previous results to a DataFrame\n",
    "salary_df = pd.DataFrame(salary_results, columns = ['Salary'])"
   ]
  },
  {
   "cell_type": "code",
   "execution_count": 14,
   "metadata": {},
   "outputs": [
    {
     "data": {
      "text/html": [
       "<div>\n",
       "<style scoped>\n",
       "    .dataframe tbody tr th:only-of-type {\n",
       "        vertical-align: middle;\n",
       "    }\n",
       "\n",
       "    .dataframe tbody tr th {\n",
       "        vertical-align: top;\n",
       "    }\n",
       "\n",
       "    .dataframe thead th {\n",
       "        text-align: right;\n",
       "    }\n",
       "</style>\n",
       "<table border=\"1\" class=\"dataframe\">\n",
       "  <thead>\n",
       "    <tr style=\"text-align: right;\">\n",
       "      <th></th>\n",
       "      <th>Salary</th>\n",
       "    </tr>\n",
       "  </thead>\n",
       "  <tbody>\n",
       "    <tr>\n",
       "      <th>0</th>\n",
       "      <td>60117.0</td>\n",
       "    </tr>\n",
       "    <tr>\n",
       "      <th>1</th>\n",
       "      <td>65828.0</td>\n",
       "    </tr>\n",
       "    <tr>\n",
       "      <th>2</th>\n",
       "      <td>40006.0</td>\n",
       "    </tr>\n",
       "    <tr>\n",
       "      <th>3</th>\n",
       "      <td>40054.0</td>\n",
       "    </tr>\n",
       "    <tr>\n",
       "      <th>4</th>\n",
       "      <td>78228.0</td>\n",
       "    </tr>\n",
       "  </tbody>\n",
       "</table>\n",
       "</div>"
      ],
      "text/plain": [
       "    Salary\n",
       "0  60117.0\n",
       "1  65828.0\n",
       "2  40006.0\n",
       "3  40054.0\n",
       "4  78228.0"
      ]
     },
     "execution_count": 14,
     "metadata": {},
     "output_type": "execute_result"
    }
   ],
   "source": [
    "#Replace '$' symbol, commas and convert to float\n",
    "salary_df['Salary'] = salary_df['Salary'].replace({'\\$':''}, regex = True)\n",
    "salary_df['Salary'] = salary_df['Salary'].replace({'\\,':''}, regex = True)\n",
    "salary_df['Salary'] = salary_df['Salary'].astype(float)\n",
    "\n",
    "#Show dataframe head\n",
    "salary_df.head()"
   ]
  },
  {
   "cell_type": "code",
   "execution_count": 15,
   "metadata": {},
   "outputs": [],
   "source": [
    "#Set min and max, for bins\n",
    "min_salary = salary_df['Salary'].min()\n",
    "max_salary = salary_df['Salary'].max()\n",
    "\n",
    "# Generate bins by list comprehension, in this case, 10 bins\n",
    "bins = [x for x in range(int(min_salary), int(max_salary)+1, int((max_salary-min_salary)/10))]\n",
    "\n",
    "# Create bin labels\n",
    "labels = [f\"From {round(bins[x])} to {round(bins[x+1])}\" for x in range(len(bins)-1)]\n",
    "\n",
    "# Cut the dataframe in bins\n",
    "salary_df_bins = salary_df\n",
    "salary_df_bins['Range of Salary'] = pd.cut(salary_df_bins['Salary'], bins, labels = labels)\n",
    "\n",
    "#Calculate histogram, reset index and show it\n",
    "salary_histogram_df = salary_df_bins.groupby('Range of Salary').agg(Count = ('Salary', 'count'))\n",
    "salary_histogram_df.reset_index(inplace=True)"
   ]
  },
  {
   "cell_type": "code",
   "execution_count": 16,
   "metadata": {},
   "outputs": [
    {
     "data": {
      "image/png": "[encoded data removed]",
      "text/plain": [
       "<Figure size 1296x360 with 1 Axes>"
      ]
     },
     "metadata": {},
     "output_type": "display_data"
    }
   ],
   "source": [
    "#Create a histogram to visualize the most common salary ranges for employees.\n",
    "salary_histogram_df.plot.bar(x='Range of Salary', y = 'Count',  title = \"Histogram of Most Common Salary\", figsize=(18,5))\n",
    "plt.show()"
   ]
  },
  {
   "cell_type": "markdown",
   "metadata": {},
   "source": [
    "Method 2 = Plot directly from pandas plot"
   ]
  },
  {
   "cell_type": "code",
   "execution_count": 17,
   "metadata": {},
   "outputs": [],
   "source": [
    "#Query the information and store it to a variable\n",
    "salary_results = session.query(salary_db.salary).all()"
   ]
  },
  {
   "cell_type": "code",
   "execution_count": 18,
   "metadata": {},
   "outputs": [],
   "source": [
    "#Save previous results to a DataFrame\n",
    "salary_df = pd.DataFrame(salary_results, columns = ['Salary'])"
   ]
  },
  {
   "cell_type": "code",
   "execution_count": 19,
   "metadata": {},
   "outputs": [
    {
     "data": {
      "text/html": [
       "<div>\n",
       "<style scoped>\n",
       "    .dataframe tbody tr th:only-of-type {\n",
       "        vertical-align: middle;\n",
       "    }\n",
       "\n",
       "    .dataframe tbody tr th {\n",
       "        vertical-align: top;\n",
       "    }\n",
       "\n",
       "    .dataframe thead th {\n",
       "        text-align: right;\n",
       "    }\n",
       "</style>\n",
       "<table border=\"1\" class=\"dataframe\">\n",
       "  <thead>\n",
       "    <tr style=\"text-align: right;\">\n",
       "      <th></th>\n",
       "      <th>Salary</th>\n",
       "    </tr>\n",
       "  </thead>\n",
       "  <tbody>\n",
       "    <tr>\n",
       "      <th>0</th>\n",
       "      <td>60117.0</td>\n",
       "    </tr>\n",
       "    <tr>\n",
       "      <th>1</th>\n",
       "      <td>65828.0</td>\n",
       "    </tr>\n",
       "    <tr>\n",
       "      <th>2</th>\n",
       "      <td>40006.0</td>\n",
       "    </tr>\n",
       "    <tr>\n",
       "      <th>3</th>\n",
       "      <td>40054.0</td>\n",
       "    </tr>\n",
       "    <tr>\n",
       "      <th>4</th>\n",
       "      <td>78228.0</td>\n",
       "    </tr>\n",
       "  </tbody>\n",
       "</table>\n",
       "</div>"
      ],
      "text/plain": [
       "    Salary\n",
       "0  60117.0\n",
       "1  65828.0\n",
       "2  40006.0\n",
       "3  40054.0\n",
       "4  78228.0"
      ]
     },
     "execution_count": 19,
     "metadata": {},
     "output_type": "execute_result"
    }
   ],
   "source": [
    "#Replace '$' symbol, commas and convert to float\n",
    "salary_df['Salary'] = salary_df['Salary'].replace({'\\$':''}, regex = True)\n",
    "salary_df['Salary'] = salary_df['Salary'].replace({'\\,':''}, regex = True)\n",
    "salary_df['Salary'] = salary_df['Salary'].astype(float)\n",
    "\n",
    "#Show dataframe head\n",
    "salary_df.head()"
   ]
  },
  {
   "cell_type": "code",
   "execution_count": 20,
   "metadata": {},
   "outputs": [
    {
     "data": {
      "image/png": "[encoded data removed]",
      "text/plain": [
       "<Figure size 1296x360 with 1 Axes>"
      ]
     },
     "metadata": {},
     "output_type": "display_data"
    }
   ],
   "source": [
    "salary_df.plot.hist(by='Salary', bins=30, figsize=(18,5))\n",
    "plt.show()"
   ]
  },
  {
   "cell_type": "code",
   "execution_count": null,
   "metadata": {},
   "outputs": [],
   "source": []
  },
  {
   "cell_type": "code",
   "execution_count": null,
   "metadata": {},
   "outputs": [],
   "source": []
  },
  {
   "cell_type": "code",
   "execution_count": null,
   "metadata": {},
   "outputs": [],
   "source": []
  },
  {
   "cell_type": "code",
   "execution_count": null,
   "metadata": {},
   "outputs": [],
   "source": []
  },
  {
   "cell_type": "code",
   "execution_count": null,
   "metadata": {},
   "outputs": [],
   "source": []
  },
  {
   "cell_type": "code",
   "execution_count": null,
   "metadata": {},
   "outputs": [],
   "source": []
  }
 ],
 "metadata": {
  "kernelspec": {
   "display_name": "Python 3",
   "language": "python",
   "name": "python3"
  },
  "language_info": {
   "codemirror_mode": {
    "name": "ipython",
    "version": 3
   },
   "file_extension": ".py",
   "mimetype": "text/x-python",
   "name": "python",
   "nbconvert_exporter": "python",
   "pygments_lexer": "ipython3",
   "version": "3.7.6"
  }
 },
 "nbformat": 4,
 "nbformat_minor": 4
}
